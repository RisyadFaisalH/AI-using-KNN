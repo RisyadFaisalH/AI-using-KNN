{
  "nbformat": 4,
  "nbformat_minor": 0,
  "metadata": {
    "colab": {
      "name": "Main_Project3",
      "provenance": [],
      "collapsed_sections": [],
      "include_colab_link": true
    },
    "kernelspec": {
      "name": "python3",
      "display_name": "Python 3"
    },
    "language_info": {
      "name": "python"
    }
  },
  "cells": [
    {
      "cell_type": "markdown",
      "metadata": {
        "id": "view-in-github",
        "colab_type": "text"
      },
      "source": [
        "<a href=\"https://colab.research.google.com/github/RisyadFaisalH/AI-using-KNN/blob/main/Main_Project3.ipynb\" target=\"_parent\"><img src=\"https://colab.research.google.com/assets/colab-badge.svg\" alt=\"Open In Colab\"/></a>"
      ]
    },
    {
      "cell_type": "markdown",
      "metadata": {
        "id": "e27weT6jwrz4"
      },
      "source": [
        "**MAIN ASSIGNMENT 3**"
      ]
    },
    {
      "cell_type": "code",
      "metadata": {
        "id": "Di3Idq_IYowA"
      },
      "source": [
        "import pandas as pd\n",
        "import numpy as np\n",
        "from math import sqrt"
      ],
      "execution_count": null,
      "outputs": []
    },
    {
      "cell_type": "markdown",
      "metadata": {
        "id": "U4cd02k_xm-1"
      },
      "source": [
        "**READ DATA**"
      ]
    },
    {
      "cell_type": "code",
      "metadata": {
        "colab": {
          "base_uri": "https://localhost:8080/"
        },
        "id": "tjfkMT5bxmMR",
        "outputId": "74b63085-8e2d-4dad-b1a6-08ea22514699"
      },
      "source": [
        "data = pd.read_csv(\"https://bit.ly/data_mobil\")\n",
        "input_data = pd.read_csv(\"https://bit.ly/data_input\")\n",
        "\n",
        "print(\"\\nDataset\\n\", data)\n",
        "print(\"\\nData Input\\n\", input_data)"
      ],
      "execution_count": null,
      "outputs": [
        {
          "output_type": "stream",
          "text": [
            "\n",
            "Dataset\n",
            "               Nama Mobil  Ukuran  Kenyamanan  Irit  Kecepatan  Harga\n",
            "0            Toyota Agya       4           4     9          6   1.00\n",
            "1          Daihatsu Alya       4           3     9          6   1.10\n",
            "2          Toyota Avanza       6           5     6          6   2.00\n",
            "3         Daihatsu Xenia       6           4     6          6   1.75\n",
            "4                Xpander       7           7     6          7   2.25\n",
            "5                 Livina       7           7     6          7   2.10\n",
            "6                Karimun       3           4    10          5   1.20\n",
            "7          Toyota Innova       8           8     5          7   4.00\n",
            "8                Alphard       9          10     4          8  10.00\n",
            "9            Toyota Vios       5           7     9          8   2.50\n",
            "10            Honda City       5           8     7          8   2.70\n",
            "11          Toyota Hiace      10           5     8          6   5.00\n",
            "12       Toyota Fortuner       9           8     5          8   5.00\n",
            "13           Toyota Foxy       9           9     5          7   5.50\n",
            "14  Toyota Corolla Altis       5           9     7          9   6.00\n",
            "15         Suzuki Ertiga       7           7     7          7   2.30\n",
            "16          Suzuki Carry       7           3     9          5   0.80\n",
            "\n",
            "Data Input\n",
            "    Ukuran  Kenyamanan  Irit  Kecepatan  Harga\n",
            "0       7          10    10          5      7\n"
          ],
          "name": "stdout"
        }
      ]
    },
    {
      "cell_type": "markdown",
      "metadata": {
        "id": "9cD--PXuxVIj"
      },
      "source": [
        "**DEFINE METHODS**"
      ]
    },
    {
      "cell_type": "code",
      "metadata": {
        "id": "gu3bXXTaxP5S"
      },
      "source": [
        "def Euclidean(data_test, data_input):\n",
        "    result = []\n",
        "\n",
        "    for i in range(len(data_test[\"Ukuran\"])):\n",
        "        value = 0\n",
        "        for name in data_test:\n",
        "            if name == \"Nama Mobil\":\n",
        "                continue\n",
        "            value += (data_test[name][i] - data_input[name][0])**2\n",
        "\n",
        "        result.append(sqrt(value))\n",
        "\n",
        "    return result"
      ],
      "execution_count": null,
      "outputs": []
    },
    {
      "cell_type": "code",
      "metadata": {
        "id": "CMwPx86H8ept"
      },
      "source": [
        "def Manhattan(data_test, data_input):\n",
        "    result = []\n",
        "\n",
        "    for i in range(len(data_test[\"Ukuran\"])):\n",
        "        value = 0\n",
        "        for name in data_test:\n",
        "            if name == \"Nama Mobil\":\n",
        "                continue\n",
        "            value += abs(data_test[name][i] - data_input[name][0])\n",
        "\n",
        "        result.append(value)\n",
        "\n",
        "    return result"
      ],
      "execution_count": null,
      "outputs": []
    },
    {
      "cell_type": "code",
      "metadata": {
        "id": "WlgOSTIB6xvW"
      },
      "source": [
        "def Minkowski(data_test, data_input, h):\n",
        "    result = []\n",
        "\n",
        "    for i in range(len(data_test[\"Ukuran\"])):\n",
        "        value = 0\n",
        "        for name in data_test:\n",
        "            if name == \"Nama Mobil\":\n",
        "                continue\n",
        "            value += abs(data_test[name][i] - data_input[name][0])**h\n",
        "\n",
        "        result.append(value**(1/h))\n",
        "\n",
        "    return result"
      ],
      "execution_count": null,
      "outputs": []
    },
    {
      "cell_type": "code",
      "metadata": {
        "id": "8WgoBKrO982p"
      },
      "source": [
        "def Supremum(data_test, data_input):\n",
        "    result = []\n",
        "\n",
        "    for i in range(len(data_test[\"Ukuran\"])):\n",
        "        value = []\n",
        "        for name in data_test:\n",
        "            if name == \"Nama Mobil\":\n",
        "                continue\n",
        "            value.append(abs(data_test[name][i] - data_input[name][0]))\n",
        "\n",
        "        result.append(max(value))\n",
        "\n",
        "    return result"
      ],
      "execution_count": null,
      "outputs": []
    },
    {
      "cell_type": "code",
      "metadata": {
        "id": "GuLx_zDpSLfE"
      },
      "source": [
        "def knn(size):\n",
        "    data2 = data.copy()\n",
        "    data2[\"manhattan\"] = Manhattan(data, input_data)\n",
        "    data2[\"euclidean\"] = Euclidean(data, input_data)\n",
        "    data2[\"minkowski\"] = Minkowski(data, input_data, 1.5)\n",
        "    data2[\"supremum\"] = Supremum(data, input_data)\n",
        "\n",
        "    man = data2.sort_values(by=[\"manhattan\"])[:size]\n",
        "    eu = data2.sort_values(by=['euclidean'])[:size]\n",
        "    mink = data2.sort_values(by=['minkowski'])[:size]\n",
        "    sp = data2.sort_values(by=['supremum'])[:size]\n",
        "\n",
        "    man.to_excel('recommend_manhattan.xls', index=False)\n",
        "    eu.to_excel('recommend_euclidean.xls', index=False)\n",
        "    mink.to_excel('recommend_minkowski.xls', index=False)\n",
        "    sp.to_excel('recommend_supremum.xls', index=False)\n",
        "\n",
        "    return man, eu, mink, sp"
      ],
      "execution_count": null,
      "outputs": []
    },
    {
      "cell_type": "code",
      "metadata": {
        "colab": {
          "base_uri": "https://localhost:8080/"
        },
        "id": "A4b_QeiVSNFX",
        "outputId": "7c319d37-79bf-4593-f569-e7fbaf7f804f"
      },
      "source": [
        "if __name__ == \"__main__\":\n",
        "    man, eu, mink, sp = knn(3)\n",
        "\n",
        "    print(\"\\n===recommendation===\")\n",
        "    print(\"\\nManhattan\\n\", man)\n",
        "    print(\"\\nEuclidean\\n\", eu)\n",
        "    print(\"\\nMinkowski\\n\", mink)\n",
        "    print(\"\\nSupremum\\n\", sp)"
      ],
      "execution_count": null,
      "outputs": [
        {
          "output_type": "stream",
          "text": [
            "\n",
            "===recommendation===\n",
            "\n",
            "Manhattan\n",
            "               Nama Mobil  Ukuran  Kenyamanan  ...  euclidean  minkowski  supremum\n",
            "14  Toyota Corolla Altis       5           9  ...   5.567764   6.874537       4.0\n",
            "13           Toyota Foxy       9           9  ...   6.020797   7.287855       5.0\n",
            "15         Suzuki Ertiga       7           7  ...   6.640030   8.183430       4.7\n",
            "\n",
            "[3 rows x 10 columns]\n",
            "\n",
            "Euclidean\n",
            "               Nama Mobil  Ukuran  Kenyamanan  ...  euclidean  minkowski  supremum\n",
            "14  Toyota Corolla Altis       5           9  ...   5.567764   6.874537       4.0\n",
            "13           Toyota Foxy       9           9  ...   6.020797   7.287855       5.0\n",
            "7          Toyota Innova       8           8  ...   6.557439   8.095395       5.0\n",
            "\n",
            "[3 rows x 10 columns]\n",
            "\n",
            "Minkowski\n",
            "               Nama Mobil  Ukuran  Kenyamanan  ...  euclidean  minkowski  supremum\n",
            "14  Toyota Corolla Altis       5           9  ...   5.567764   6.874537       4.0\n",
            "13           Toyota Foxy       9           9  ...   6.020797   7.287855       5.0\n",
            "7          Toyota Innova       8           8  ...   6.557439   8.095395       5.0\n",
            "\n",
            "[3 rows x 10 columns]\n",
            "\n",
            "Supremum\n",
            "               Nama Mobil  Ukuran  Kenyamanan  ...  euclidean  minkowski  supremum\n",
            "14  Toyota Corolla Altis       5           9  ...   5.567764   6.874537       4.0\n",
            "10            Honda City       5           8  ...   6.670082   8.542087       4.3\n",
            "9            Toyota Vios       5           7  ...   6.576473   8.266321       4.5\n",
            "\n",
            "[3 rows x 10 columns]\n"
          ],
          "name": "stdout"
        }
      ]
    }
  ]
}